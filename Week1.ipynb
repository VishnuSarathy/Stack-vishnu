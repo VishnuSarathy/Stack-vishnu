{
  "nbformat": 4,
  "nbformat_minor": 0,
  "metadata": {
    "colab": {
      "provenance": [],
      "authorship_tag": "ABX9TyPO2m6tQVznALAXn1p19W77",
      "include_colab_link": true
    },
    "kernelspec": {
      "name": "python3",
      "display_name": "Python 3"
    },
    "language_info": {
      "name": "python"
    }
  },
  "cells": [
    {
      "cell_type": "markdown",
      "metadata": {
        "id": "view-in-github",
        "colab_type": "text"
      },
      "source": [
        "<a href=\"https://colab.research.google.com/github/VishnuSarathy/Stack-vishnu/blob/main/Week1.ipynb\" target=\"_parent\"><img src=\"https://colab.research.google.com/assets/colab-badge.svg\" alt=\"Open In Colab\"/></a>"
      ]
    },
    {
      "cell_type": "markdown",
      "source": [
        "<H1>Part 1</H1>"
      ],
      "metadata": {
        "id": "vErHWPUC2VGC"
      }
    },
    {
      "cell_type": "markdown",
      "source": [
        "**Load the Dataset**"
      ],
      "metadata": {
        "id": "EeesR2B-HlRD"
      }
    },
    {
      "cell_type": "code",
      "source": [
        "import pandas as pd"
      ],
      "metadata": {
        "id": "bX3FtXex2oOv"
      },
      "execution_count": 2,
      "outputs": []
    },
    {
      "cell_type": "code",
      "source": [
        "data = pd.read_csv('/content/sample_data/california_housing_train.csv')"
      ],
      "metadata": {
        "id": "NMXGkve-3au_"
      },
      "execution_count": 3,
      "outputs": []
    },
    {
      "cell_type": "code",
      "source": [
        "data.head(5)"
      ],
      "metadata": {
        "id": "upJc7wZu7u_Y"
      },
      "execution_count": null,
      "outputs": []
    },
    {
      "cell_type": "code",
      "source": [
        "data.tail(10)"
      ],
      "metadata": {
        "id": "T1Gwzr7DHczJ"
      },
      "execution_count": null,
      "outputs": []
    },
    {
      "cell_type": "markdown",
      "source": [
        "**Data Summary**"
      ],
      "metadata": {
        "id": "6IszzdV_HubO"
      }
    },
    {
      "cell_type": "code",
      "source": [
        "data.describe()"
      ],
      "metadata": {
        "id": "DmG01W-UHyKi"
      },
      "execution_count": null,
      "outputs": []
    },
    {
      "cell_type": "code",
      "source": [
        "len(data[\"total_bedrooms\"].unique())"
      ],
      "metadata": {
        "id": "j8UsZxQfIPRA"
      },
      "execution_count": null,
      "outputs": []
    },
    {
      "cell_type": "markdown",
      "source": [
        "**Data Transformation**"
      ],
      "metadata": {
        "id": "ZtXJYr7jK6RZ"
      }
    },
    {
      "cell_type": "code",
      "source": [
        "data['total_bedrooms_per_total_rooms'] = data[\"total_bedrooms\"] / data[\"total_rooms\"]"
      ],
      "metadata": {
        "id": "v5mPcpkULABG"
      },
      "execution_count": 12,
      "outputs": []
    },
    {
      "cell_type": "code",
      "source": [
        "data.describe()"
      ],
      "metadata": {
        "id": "p3x_oD-9Lq9x"
      },
      "execution_count": null,
      "outputs": []
    },
    {
      "cell_type": "code",
      "source": [
        "data[\"total_bedrooms_per_total_rooms\"].mean()"
      ],
      "metadata": {
        "id": "GGUH6ZPBL3H2"
      },
      "execution_count": null,
      "outputs": []
    },
    {
      "cell_type": "code",
      "source": [
        "data[\"total_bedrooms_per_total_rooms\"].std()"
      ],
      "metadata": {
        "id": "A3bQ5VRsMBCu"
      },
      "execution_count": null,
      "outputs": []
    },
    {
      "cell_type": "markdown",
      "source": [
        "**Data Filtering**"
      ],
      "metadata": {
        "id": "ivbF-fuGMFlp"
      }
    },
    {
      "cell_type": "markdown",
      "source": [
        "This prints only the values of median_income"
      ],
      "metadata": {
        "id": "ps30uDOhepQA"
      }
    },
    {
      "cell_type": "code",
      "source": [
        "arr = []\n",
        "for i in data[\"median_income\"]:\n",
        "  if i> 5:\n",
        "    print(i)"
      ],
      "metadata": {
        "id": "9d5jBWPoMK_d"
      },
      "execution_count": null,
      "outputs": []
    },
    {
      "cell_type": "markdown",
      "source": [
        "This prints all rows with median_income greater than 5"
      ],
      "metadata": {
        "id": "gbe1qhj4ev3b"
      }
    },
    {
      "cell_type": "code",
      "source": [
        "data[data['median_income'] > 5]"
      ],
      "metadata": {
        "id": "ITdDFHFhQNQr"
      },
      "execution_count": null,
      "outputs": []
    },
    {
      "cell_type": "markdown",
      "source": [
        "This prints all rows with median_house_value less than 150000 and total_rooms grater than 1000"
      ],
      "metadata": {
        "id": "4eDzNOVffBpN"
      }
    },
    {
      "cell_type": "code",
      "source": [
        "data[(data['total_rooms'] > 10000) & (data['median_house_value'] < 150000)]"
      ],
      "metadata": {
        "id": "WILzQ1ctQXaZ"
      },
      "execution_count": null,
      "outputs": []
    },
    {
      "cell_type": "markdown",
      "source": [
        "**Saving/Exporting**"
      ],
      "metadata": {
        "id": "z3YkOH40QtNJ"
      }
    },
    {
      "cell_type": "markdown",
      "source": [
        "This saves the above changed data set to modified.csv in sample_data folder"
      ],
      "metadata": {
        "id": "yf_lHmZSfdfv"
      }
    },
    {
      "cell_type": "code",
      "source": [
        "data.to_csv('/content/sample_data/modified.csv')"
      ],
      "metadata": {
        "id": "nCNIpwSbQsic"
      },
      "execution_count": 23,
      "outputs": []
    },
    {
      "cell_type": "markdown",
      "source": [
        "# Part 2"
      ],
      "metadata": {
        "id": "JUdY7-8YTRe3"
      }
    },
    {
      "cell_type": "code",
      "source": [
        "import numpy as np"
      ],
      "metadata": {
        "id": "gdDKHbVUTSXz"
      },
      "execution_count": 5,
      "outputs": []
    },
    {
      "cell_type": "markdown",
      "source": [
        "Generating array"
      ],
      "metadata": {
        "id": "aGZHvRWafuXZ"
      }
    },
    {
      "cell_type": "code",
      "source": [
        "ar1 = np.arange(1,21)\n",
        "print(ar1)"
      ],
      "metadata": {
        "colab": {
          "base_uri": "https://localhost:8080/"
        },
        "id": "ErYB6yYoT2Va",
        "outputId": "93897355-508a-4bf6-ff88-d65772083f38"
      },
      "execution_count": 6,
      "outputs": [
        {
          "output_type": "stream",
          "name": "stdout",
          "text": [
            "[ 1  2  3  4  5  6  7  8  9 10 11 12 13 14 15 16 17 18 19 20]\n"
          ]
        }
      ]
    },
    {
      "cell_type": "markdown",
      "source": [
        "slicing the array to print even numbers"
      ],
      "metadata": {
        "id": "wRP64m_ufxP0"
      }
    },
    {
      "cell_type": "code",
      "source": [
        "print(ar1[1:21:2])"
      ],
      "metadata": {
        "colab": {
          "base_uri": "https://localhost:8080/"
        },
        "id": "HSBHAovsUZHZ",
        "outputId": "824930c8-ef6f-4bd6-e9f1-c072aab57d18"
      },
      "execution_count": 7,
      "outputs": [
        {
          "output_type": "stream",
          "name": "stdout",
          "text": [
            "[ 2  4  6  8 10 12 14 16 18 20]\n"
          ]
        }
      ]
    },
    {
      "cell_type": "markdown",
      "source": [
        "Generating 2 d array"
      ],
      "metadata": {
        "id": "2T75VYxJf0ei"
      }
    },
    {
      "cell_type": "code",
      "source": [
        "ar2 = np.random.randint(10, 101, size=(5, 4))\n",
        "print(ar2)"
      ],
      "metadata": {
        "colab": {
          "base_uri": "https://localhost:8080/"
        },
        "id": "GQNCnhu8VO8J",
        "outputId": "70413fbf-b077-4fd1-c58a-c3aa10ae92c4"
      },
      "execution_count": 8,
      "outputs": [
        {
          "output_type": "stream",
          "name": "stdout",
          "text": [
            "[[38 60 84 88]\n",
            " [66 20 50 24]\n",
            " [16 88 27 95]\n",
            " [27 16 80 29]\n",
            " [41 58 36 17]]\n"
          ]
        }
      ]
    },
    {
      "cell_type": "markdown",
      "source": [
        "slicing 2d array to print first 3 rows and 2 columns"
      ],
      "metadata": {
        "id": "yqa4t75kf4tt"
      }
    },
    {
      "cell_type": "code",
      "source": [
        "print(ar2[0:3,0:2])"
      ],
      "metadata": {
        "colab": {
          "base_uri": "https://localhost:8080/"
        },
        "id": "MiQtO1qAVsn1",
        "outputId": "b24f0235-45a1-4335-d187-0e37942b153d"
      },
      "execution_count": 9,
      "outputs": [
        {
          "output_type": "stream",
          "name": "stdout",
          "text": [
            "[[38 60]\n",
            " [66 20]\n",
            " [16 88]]\n"
          ]
        }
      ]
    },
    {
      "cell_type": "markdown",
      "source": [
        "Array Manipulation"
      ],
      "metadata": {
        "id": "HNVvkDkkWcvP"
      }
    },
    {
      "cell_type": "markdown",
      "source": [
        "reshaping 1d to 2d array"
      ],
      "metadata": {
        "id": "clOVX8bYgY9p"
      }
    },
    {
      "cell_type": "code",
      "source": [
        "ar1 = ar1.reshape(4, 5)\n",
        "print(ar1)"
      ],
      "metadata": {
        "colab": {
          "base_uri": "https://localhost:8080/"
        },
        "id": "xk9UQ9mzWgTn",
        "outputId": "22f22221-a918-4a13-c178-b7c8b793e986"
      },
      "execution_count": 10,
      "outputs": [
        {
          "output_type": "stream",
          "name": "stdout",
          "text": [
            "[[ 1  2  3  4  5]\n",
            " [ 6  7  8  9 10]\n",
            " [11 12 13 14 15]\n",
            " [16 17 18 19 20]]\n"
          ]
        }
      ]
    },
    {
      "cell_type": "markdown",
      "source": [
        "Again using flatten to convert into 1d array"
      ],
      "metadata": {
        "id": "uHjlWy98gRD-"
      }
    },
    {
      "cell_type": "code",
      "source": [
        "ar1 = ar1.flatten()\n",
        "print(ar1)"
      ],
      "metadata": {
        "colab": {
          "base_uri": "https://localhost:8080/"
        },
        "id": "zUA-A89QC9ak",
        "outputId": "c6efa479-0cd8-4948-f205-7fe54e7d05ab"
      },
      "execution_count": 11,
      "outputs": [
        {
          "output_type": "stream",
          "name": "stdout",
          "text": [
            "[ 1  2  3  4  5  6  7  8  9 10 11 12 13 14 15 16 17 18 19 20]\n"
          ]
        }
      ]
    },
    {
      "cell_type": "markdown",
      "source": [
        "Using dot function of numpy to do matrix multiplication"
      ],
      "metadata": {
        "id": "7MoTYKkHgcR5"
      }
    },
    {
      "cell_type": "code",
      "source": [
        "ar3 = np.random.randint(0, 100, size=(5, 4)).transpose()\n",
        "np.dot(ar2, ar3)"
      ],
      "metadata": {
        "colab": {
          "base_uri": "https://localhost:8080/"
        },
        "id": "1tkd-Q26DEVz",
        "outputId": "c81c506b-8124-4a9d-bedc-e1bf2f6d19d8"
      },
      "execution_count": 12,
      "outputs": [
        {
          "output_type": "execute_result",
          "data": {
            "text/plain": [
              "array([[11390, 15696, 12938, 10278, 11776],\n",
              "       [ 4730,  5906,  4406,  7028,  9134],\n",
              "       [ 9030, 16386, 14457, 10380,  9085],\n",
              "       [ 6645,  7089,  5034,  4936,  7486],\n",
              "       [ 3991,  8405,  6502,  8452,  9176]])"
            ]
          },
          "metadata": {},
          "execution_count": 12
        }
      ]
    },
    {
      "cell_type": "markdown",
      "source": [
        "Creating g50 which is boolean index"
      ],
      "metadata": {
        "id": "2lcDMXb-gm0o"
      }
    },
    {
      "cell_type": "code",
      "source": [
        "ar4 = np.random.randint(0, 101, size=50)\n",
        "print(ar4)\n",
        "g50 = ar4>50\n",
        "print(ar4[g50])"
      ],
      "metadata": {
        "colab": {
          "base_uri": "https://localhost:8080/"
        },
        "id": "IXJswDiNGcG-",
        "outputId": "cea3a851-d2d4-4038-8250-7127f7280c17"
      },
      "execution_count": 51,
      "outputs": [
        {
          "output_type": "stream",
          "name": "stdout",
          "text": [
            "[54 38 17 63 33 76 33 97 29 74 30 19 92 46 29 58 28 20 73 76 37 29 20 49\n",
            " 98 72 52 57 96 19 35 53 88 49 92 88 92  4 91 79 71 57 78 65  4 16 85 31\n",
            " 48 66]\n",
            "[54 63 76 97 74 92 58 73 76 98 72 52 57 96 53 88 92 88 92 91 79 71 57 78\n",
            " 65 85 66]\n"
          ]
        }
      ]
    },
    {
      "cell_type": "markdown",
      "source": [
        "ar5 represents fancy index of elements which needs to be printed"
      ],
      "metadata": {
        "id": "HYcDOHsYgt9q"
      }
    },
    {
      "cell_type": "code",
      "source": [
        "ar5 = [1,3,5,7]\n",
        "print(ar4[ar5])"
      ],
      "metadata": {
        "colab": {
          "base_uri": "https://localhost:8080/"
        },
        "id": "JLP3UxOmJqqu",
        "outputId": "f110b37e-e6f1-49a7-f3f3-549cea15075d"
      },
      "execution_count": 52,
      "outputs": [
        {
          "output_type": "stream",
          "name": "stdout",
          "text": [
            "[38 63 76 97]\n"
          ]
        }
      ]
    },
    {
      "cell_type": "markdown",
      "source": [
        "**Statistical Operations**"
      ],
      "metadata": {
        "id": "XCk6Ap2DSa8A"
      }
    },
    {
      "cell_type": "markdown",
      "source": [
        "finding mean max sum along axis:0, i.e. columns"
      ],
      "metadata": {
        "id": "rJDinpdYg_lg"
      }
    },
    {
      "cell_type": "code",
      "source": [
        "mean = ar2.mean(axis=0)\n",
        "max = ar2.max(axis=0)\n",
        "sum = ar2.sum(axis=0)\n",
        "print(mean,max,sum)"
      ],
      "metadata": {
        "colab": {
          "base_uri": "https://localhost:8080/"
        },
        "id": "NbbYByhEJ2nX",
        "outputId": "44cf596c-54cc-42f5-83a5-0f172b45e602"
      },
      "execution_count": 53,
      "outputs": [
        {
          "output_type": "stream",
          "name": "stdout",
          "text": [
            "[48.8 73.6 68.6 49.6] [83 92 98 91] [244 368 343 248]\n"
          ]
        }
      ]
    },
    {
      "cell_type": "code",
      "source": [
        "mask = ar2 > mean\n",
        "print(ar2[mask])\n",
        "print(ar2)"
      ],
      "metadata": {
        "colab": {
          "base_uri": "https://localhost:8080/"
        },
        "id": "-0EhsG58SZuJ",
        "outputId": "8ffd79c2-bc50-4561-c153-6dc6096588fe"
      },
      "execution_count": 55,
      "outputs": [
        {
          "output_type": "stream",
          "name": "stdout",
          "text": [
            "[70 69 91 82 88 65 81 98 83 92 71]\n",
            "[[70 65 69 91]\n",
            " [10 72 82 88]\n",
            " [65 81 98 15]\n",
            " [83 92 23 42]\n",
            " [16 58 71 12]]\n"
          ]
        }
      ]
    },
    {
      "cell_type": "markdown",
      "source": [
        "# Part 3"
      ],
      "metadata": {
        "id": "EzARXyo6TfWt"
      }
    },
    {
      "cell_type": "markdown",
      "source": [
        "**Loops and Conditional Statements**"
      ],
      "metadata": {
        "id": "FMK0Rqp0Tkmn"
      }
    },
    {
      "cell_type": "markdown",
      "source": [
        "Printing fibonnaci"
      ],
      "metadata": {
        "id": "eCM4S14thKQ3"
      }
    },
    {
      "cell_type": "code",
      "source": [
        "s = 1\n",
        "pre =0\n",
        "print(0)\n",
        "while(s<100):\n",
        "  print(s)\n",
        "  temp = pre\n",
        "  pre = s\n",
        "  s = s+temp"
      ],
      "metadata": {
        "colab": {
          "base_uri": "https://localhost:8080/"
        },
        "id": "zk4J96ItTeng",
        "outputId": "d379940d-d483-4c40-ba9b-97aac4af7624"
      },
      "execution_count": 59,
      "outputs": [
        {
          "output_type": "stream",
          "name": "stdout",
          "text": [
            "0\n",
            "1\n",
            "1\n",
            "2\n",
            "3\n",
            "5\n",
            "8\n",
            "13\n",
            "21\n",
            "34\n",
            "55\n",
            "89\n"
          ]
        }
      ]
    },
    {
      "cell_type": "code",
      "source": [
        "for i in range(1,51):\n",
        "  if i%15 == 0:\n",
        "    print(i,\"\\tFizzBuzz\")\n",
        "  elif i%5 == 0:\n",
        "    print(i,\"\\tBuzz\")\n",
        "  elif i%3 == 0:\n",
        "    print(i,\"\\tFizz\")"
      ],
      "metadata": {
        "colab": {
          "base_uri": "https://localhost:8080/"
        },
        "id": "iLgj3R1YUmb1",
        "outputId": "7c04a008-8128-47eb-969d-ea15150fafd1"
      },
      "execution_count": 61,
      "outputs": [
        {
          "output_type": "stream",
          "name": "stdout",
          "text": [
            "3 \tFizz\n",
            "5 \tBuzz\n",
            "6 \tFizz\n",
            "9 \tFizz\n",
            "10 \tBuzz\n",
            "12 \tFizz\n",
            "15 \tFizzBuzz\n",
            "18 \tFizz\n",
            "20 \tBuzz\n",
            "21 \tFizz\n",
            "24 \tFizz\n",
            "25 \tBuzz\n",
            "27 \tFizz\n",
            "30 \tFizzBuzz\n",
            "33 \tFizz\n",
            "35 \tBuzz\n",
            "36 \tFizz\n",
            "39 \tFizz\n",
            "40 \tBuzz\n",
            "42 \tFizz\n",
            "45 \tFizzBuzz\n",
            "48 \tFizz\n",
            "50 \tBuzz\n"
          ]
        }
      ]
    },
    {
      "cell_type": "markdown",
      "source": [
        "**Variable-Length Arguments**"
      ],
      "metadata": {
        "id": "S3JNsR0ZVZz2"
      }
    },
    {
      "cell_type": "code",
      "source": [
        "l = int(input(\"Enter no of elements: \"))\n",
        "lis = []\n",
        "for i in range(l):\n",
        "  lis.append(int(input()))\n",
        "if l%2 != 0:\n",
        "  print(lis[l//2])\n",
        "else:\n",
        "  print((lis[l//2]+lis[l//2 -1])/2)"
      ],
      "metadata": {
        "colab": {
          "base_uri": "https://localhost:8080/"
        },
        "id": "-oBXI3Q5VdRu",
        "outputId": "914d8b75-00e1-45b1-e8d8-0d58c409914b"
      },
      "execution_count": 79,
      "outputs": [
        {
          "output_type": "stream",
          "name": "stdout",
          "text": [
            "Enter no of elements: 4\n",
            "1\n",
            "2\n",
            "3\n",
            "4\n",
            "2.5\n"
          ]
        }
      ]
    },
    {
      "cell_type": "code",
      "source": [
        "lis = list(map(int, input().split()))\n",
        "s = 0\n",
        "for i in lis:\n",
        "  s+=i\n",
        "print(\"Avg: \",s/len(lis))"
      ],
      "metadata": {
        "colab": {
          "base_uri": "https://localhost:8080/"
        },
        "id": "tsYTTS9maoZY",
        "outputId": "b126f0e3-2a55-49f0-e047-94fdecdb6000"
      },
      "execution_count": 85,
      "outputs": [
        {
          "output_type": "stream",
          "name": "stdout",
          "text": [
            "1 2 3 4 5\n",
            "3.0\n"
          ]
        }
      ]
    },
    {
      "cell_type": "markdown",
      "source": [
        "**Error Handling**"
      ],
      "metadata": {
        "id": "TNtypqS9bUhA"
      }
    },
    {
      "cell_type": "code",
      "source": [
        "a = int(input(\"Enter Numerator\"))\n",
        "b = int(input(\"Enter Denominator\"))\n",
        "try:\n",
        "  print(a/b)\n",
        "except ZeroDivisionError:\n",
        "  print(\"Denominator Should not be zero\")"
      ],
      "metadata": {
        "colab": {
          "base_uri": "https://localhost:8080/"
        },
        "id": "Yna79Xi7ZfD4",
        "outputId": "1d21efcd-de5f-4c5b-ac15-7fb629492caa"
      },
      "execution_count": 2,
      "outputs": [
        {
          "output_type": "stream",
          "name": "stdout",
          "text": [
            "Enter Numerator2\n",
            "Enter Denominator0\n",
            "Denominator Should not be zero\n"
          ]
        }
      ]
    },
    {
      "cell_type": "markdown",
      "source": [
        "# Part 4"
      ],
      "metadata": {
        "id": "9yDCBuk-b-bC"
      }
    },
    {
      "cell_type": "code",
      "source": [
        "import numpy as np\n",
        "ar1 = np.random.randint(0,11,size=(3,3,3))\n",
        "print(ar1)"
      ],
      "metadata": {
        "colab": {
          "base_uri": "https://localhost:8080/"
        },
        "id": "FSl1HGWxb-KH",
        "outputId": "1d63b70d-af13-47d6-e007-49aa0cc3bc7f"
      },
      "execution_count": 3,
      "outputs": [
        {
          "output_type": "stream",
          "name": "stdout",
          "text": [
            "[[[ 9  3  4]\n",
            "  [ 6  3  2]\n",
            "  [10  4  9]]\n",
            "\n",
            " [[ 6  6  5]\n",
            "  [ 9 10  1]\n",
            "  [ 1  7  3]]\n",
            "\n",
            " [[10  3  5]\n",
            "  [ 4  1  1]\n",
            "  [ 4  5  2]]]\n"
          ]
        }
      ]
    },
    {
      "cell_type": "code",
      "source": [
        "ar1 = np.swapaxes(ar1, 0, 1)\n",
        "print(ar1)"
      ],
      "metadata": {
        "colab": {
          "base_uri": "https://localhost:8080/"
        },
        "id": "p_LPn2C4cDzE",
        "outputId": "46e1818b-9067-4e7d-9065-273246212cb1"
      },
      "execution_count": 4,
      "outputs": [
        {
          "output_type": "stream",
          "name": "stdout",
          "text": [
            "[[[ 9  3  4]\n",
            "  [ 6  6  5]\n",
            "  [10  3  5]]\n",
            "\n",
            " [[ 6  3  2]\n",
            "  [ 9 10  1]\n",
            "  [ 4  1  1]]\n",
            "\n",
            " [[10  4  9]\n",
            "  [ 1  7  3]\n",
            "  [ 4  5  2]]]\n"
          ]
        }
      ]
    }
  ]
}